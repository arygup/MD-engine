{
 "cells": [
  {
   "cell_type": "code",
   "execution_count": 54,
   "metadata": {},
   "outputs": [],
   "source": [
    "class Molecule:\n",
    "    class Atom:\n",
    "        def __init__(self, atm, x, y, z, idx):\n",
    "            self.idx = idx\n",
    "            self.atm = atm\n",
    "            self.x = x\n",
    "            self.y = y\n",
    "            self.z = z\n",
    "\n",
    "    def __init__(self):\n",
    "        self.atoms = []\n",
    "        self.bonds = []\n",
    "\n",
    "    def add_atom(self, atm, x, y, z, idx):\n",
    "        self.atoms.append(self.Atom(atm, x, y, z, idx))\n",
    "\n",
    "    def add_connection(self, list):\n",
    "        self.bonds.append(list)\n"
   ]
  },
  {
   "cell_type": "code",
   "execution_count": 55,
   "metadata": {},
   "outputs": [
    {
     "name": "stdout",
     "output_type": "stream",
     "text": [
      "Index: 1, Atom Name: C1, X: -0.234, Y: 0.376, Z: -0.007\n",
      "Index: 2, Atom Name: C2, X: 0.556, Y: -0.12, Z: -1.221\n",
      "Index: 3, Atom Name: H1, X: -0.258, Y: 1.49, Z: 0.026\n",
      "Index: 4, Atom Name: H2, X: -1.287, Y: 0.012, Z: -0.04\n",
      "Index: 5, Atom Name: H3, X: 0.224, Y: 0.015, Z: 0.943\n",
      "Index: 6, Atom Name: H4, X: 0.58, Y: -1.234, Z: -1.254\n",
      "Index: 7, Atom Name: H5, X: 0.098, Y: 0.242, Z: -2.171\n",
      "Index: 8, Atom Name: H6, X: 1.609, Y: 0.244, Z: -1.188\n",
      "Index: 1, Connected to all: [3, 4, 2, 5]\n",
      "Index: 3, Connected to all: [1]\n",
      "Index: 4, Connected to all: [1]\n",
      "Index: 5, Connected to all: [1]\n",
      "Index: 2, Connected to all: [1, 6, 7, 8]\n",
      "Index: 6, Connected to all: [2]\n",
      "Index: 7, Connected to all: [2]\n",
      "Index: 8, Connected to all: [2]\n"
     ]
    }
   ],
   "source": [
    "mol = Molecule()\n",
    "file_path = 'ethane.pdb'\n",
    "with open(file_path, 'r') as file:\n",
    "    lines = file.readlines()\n",
    "\n",
    "for line in lines:\n",
    "    if line.startswith(\"HETATM\"):\n",
    "        parts = line.split()\n",
    "        mol.add_atom((parts[2]), float(parts[5]), float(parts[6]), float(parts[7]), int(parts[1]))  \n",
    "    elif line.startswith(\"CONECT\"):\n",
    "        parts = line.split()\n",
    "        connected_atoms = [int(part) for part in parts[1:]]\n",
    "        mol.add_connection(connected_atoms)\n",
    "\n",
    "\n",
    "for atom in mol.atoms:\n",
    "    print(f\"Index: {atom.idx}, Atom Name: {atom.atm}, X: {atom.x}, Y: {atom.y}, Z: {atom.z}\")\n",
    "\n",
    "for bond in mol.bonds:\n",
    "    print(f\"Index: {bond[0]}, Connected to all: {bond[1:]}\")\n"
   ]
  },
  {
   "cell_type": "code",
   "execution_count": null,
   "metadata": {},
   "outputs": [],
   "source": []
  }
 ],
 "metadata": {
  "kernelspec": {
   "display_name": "base",
   "language": "python",
   "name": "python3"
  },
  "language_info": {
   "codemirror_mode": {
    "name": "ipython",
    "version": 3
   },
   "file_extension": ".py",
   "mimetype": "text/x-python",
   "name": "python",
   "nbconvert_exporter": "python",
   "pygments_lexer": "ipython3",
   "version": "3.9.7"
  },
  "orig_nbformat": 4
 },
 "nbformat": 4,
 "nbformat_minor": 2
}
